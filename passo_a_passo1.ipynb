{
 "cells": [
  {
   "cell_type": "markdown",
   "metadata": {},
   "source": [
    "# Projeto Python RPA: Automação de Tarefas e Criação de Bots \n",
    "\n",
    "### Case: Cadastrar produtos de forma automática\n",
    "\n",
    "Você foi contratado por uma empresa para automatizar a tarefa de cadastramento de produtos no site."
   ]
  },
  {
   "cell_type": "markdown",
   "metadata": {},
   "source": [
    "#### Passo 1 – Importar as bases de dados (biblioteca pandas/ pyautogui e time)\n",
    "1.1\t– Visualizar os dados;\n",
    "\n",
    "1.2\t– Consultar informações dos dados;\n",
    "\n",
    "1.3\t– Tratar os dados caso seja necessário."
   ]
  },
  {
   "cell_type": "code",
   "execution_count": 7,
   "metadata": {},
   "outputs": [],
   "source": [
    "import pyautogui\n",
    "import time\n",
    "import pandas as pd"
   ]
  },
  {
   "cell_type": "markdown",
   "metadata": {},
   "source": [
    "#### Passo 2 – Definir o tempo de espera entre os comandos do Pyautogui"
   ]
  },
  {
   "cell_type": "code",
   "execution_count": 8,
   "metadata": {},
   "outputs": [],
   "source": [
    "pyautogui.PAUSE=1.1"
   ]
  },
  {
   "cell_type": "markdown",
   "metadata": {},
   "source": [
    "#### Passo 3 – Abrir o navegador\n",
    "3.1 – Comando press para clicar na tecla de iniciar (win);\n",
    "\n",
    "3.2 – Comando write para digitar na busca o nome do navegador;\n",
    "\n",
    "3.3 – press para clicar em enter.\n"
   ]
  },
  {
   "cell_type": "code",
   "execution_count": 9,
   "metadata": {},
   "outputs": [],
   "source": [
    "pyautogui.press(\"win\")\n",
    "pyautogui.write(\"Google Chrome\")\n",
    "pyautogui.press(\"enter\")"
   ]
  },
  {
   "cell_type": "markdown",
   "metadata": {},
   "source": [
    "#### Passo 4 – Acessar site no navegador\n",
    "4.1 – write para digitar o link \n",
    "\n",
    "4.2 – press para clicar em enter.\n"
   ]
  },
  {
   "cell_type": "code",
   "execution_count": 10,
   "metadata": {},
   "outputs": [],
   "source": [
    "link=(\"https://dlp.hashtagtreinamentos.com/python/intensivao/login\")\n",
    "pyautogui.write(link)\n",
    "pyautogui.press(\"enter\")"
   ]
  },
  {
   "cell_type": "markdown",
   "metadata": {},
   "source": [
    "#### Passo 5 – Realize login no site (caso seja necessário)\n",
    "5.1 – Comando click (x=, y=) irá realizar o clique no local desejado de acordo com as coordenadas de x e y;\n",
    "\n",
    "5.2 – write para digitar login;\n",
    "\n",
    "5.3 – press tab para pular para o próximo campo de preenchimento;\n",
    "\n",
    "5.4 - write para digitar senha;\n",
    "\n",
    "5.5 – presse enter;\n",
    "\n",
    "5.6 – Usar o time.sleep para determinar o tempo necessário para carregar a página.\n"
   ]
  },
  {
   "cell_type": "code",
   "execution_count": 11,
   "metadata": {},
   "outputs": [],
   "source": [
    "pyautogui.click(x=1945, y=373)\n",
    "pyautogui.write(\"python.2024@gmail.com\")\n",
    "pyautogui.press(\"tab\")\n",
    "pyautogui.write(\"123456\")\n",
    "pyautogui.press(\"enter\")\n",
    "\n",
    "time.sleep(1.8)"
   ]
  },
  {
   "cell_type": "markdown",
   "metadata": {},
   "source": [
    "#### Passo 6 – Cadastrar base de dados\n",
    "6.1\t– Percorrer cada linha da tabela e para cada linha cadastrar um produto (usamos o for);\n",
    "\n",
    "6.2\t– if not foi usado para verificar a existência de informação e caso contrário o campo ficará vazio;\n",
    "\n",
    "6.3 -  Comando scroll para retornar ao início da página e iniciar novo cadastro.\n",
    "\n",
    "Obs.: É importante visualizar os dados, consultar informações dos dados e tratar os dados caso seja necessário.\n"
   ]
  },
  {
   "cell_type": "code",
   "execution_count": null,
   "metadata": {},
   "outputs": [],
   "source": [
    "tabela = pd.read_csv(\"produtos.csv\")\n",
    "for linha in tabela.index:\n",
    "  pyautogui.click(x=1930, y=260)\n",
    "  \n",
    "  #codigo\n",
    "  pyautogui.write(str(tabela.loc[linha, \"codigo\"]))\n",
    "  pyautogui.press(\"tab\")\n",
    "  #marca\n",
    "  pyautogui.write(str(tabela.loc[linha, \"marca\"]))\n",
    "  pyautogui.press(\"tab\")\n",
    "  #tipo\n",
    "  pyautogui.write(str(tabela.loc[linha, \"tipo\"]))\n",
    "  pyautogui.press(\"tab\")\n",
    "  #categoria\n",
    "  pyautogui.write(str(tabela.loc[linha, \"categoria\"]))\n",
    "  pyautogui.press(\"tab\")\n",
    "  #preco_unitario\n",
    "  pyautogui.write(str(tabela.loc[linha, \"preco_unitario\"]))\n",
    "  pyautogui.press(\"tab\")\n",
    "  #custo\n",
    "  pyautogui.write(str(tabela.loc[linha, \"custo\"]))\n",
    "  pyautogui.press(\"tab\")\n",
    "  #obs\n",
    "  if not pd.isna(tabela.loc[linha, \"obs\"]):\n",
    "    pyautogui.write(str(tabela.loc[linha, \"obs\"]))\n",
    "  pyautogui.press(\"tab\")\n",
    "\n",
    "  pyautogui.press(\"enter\")\n",
    "  pyautogui.scroll(5000)"
   ]
  }
 ],
 "metadata": {
  "kernelspec": {
   "display_name": "Python 3",
   "language": "python",
   "name": "python3"
  },
  "language_info": {
   "codemirror_mode": {
    "name": "ipython",
    "version": 3
   },
   "file_extension": ".py",
   "mimetype": "text/x-python",
   "name": "python",
   "nbconvert_exporter": "python",
   "pygments_lexer": "ipython3",
   "version": "3.11.7"
  }
 },
 "nbformat": 4,
 "nbformat_minor": 2
}
